{
 "cells": [
  {
   "cell_type": "code",
   "execution_count": 1,
   "id": "ebcc2484-876f-4a43-8814-ed37bb846580",
   "metadata": {},
   "outputs": [],
   "source": [
    "# 1. Who developed Python Programming Language? "
   ]
  },
  {
   "cell_type": "code",
   "execution_count": 2,
   "id": "a2bfef36-09f7-4359-bbd0-2d5e08607b58",
   "metadata": {},
   "outputs": [],
   "source": [
    "# Guido van Rossum"
   ]
  },
  {
   "cell_type": "code",
   "execution_count": null,
   "id": "8e3bbee3-9adc-49f4-937c-d9bd451b31e1",
   "metadata": {},
   "outputs": [],
   "source": []
  },
  {
   "cell_type": "code",
   "execution_count": null,
   "id": "38171417-6207-4b6d-90b9-9143507b6c28",
   "metadata": {},
   "outputs": [],
   "source": []
  },
  {
   "cell_type": "code",
   "execution_count": null,
   "id": "db911056-6da3-403a-a4a8-35e0dd8a01c7",
   "metadata": {},
   "outputs": [],
   "source": []
  },
  {
   "cell_type": "code",
   "execution_count": 3,
   "id": "972b5ba7-ea11-4e9d-b26f-9fd1ca3fdaa1",
   "metadata": {},
   "outputs": [],
   "source": [
    "# 2. Which type of Programming does Python support?"
   ]
  },
  {
   "cell_type": "code",
   "execution_count": 4,
   "id": "b4c470cf-f8c2-4fc9-a9a0-8c6fd0a04937",
   "metadata": {},
   "outputs": [],
   "source": [
    "# Procedural programming, Object-oriented programming, Functional programming, Imperative programming."
   ]
  },
  {
   "cell_type": "code",
   "execution_count": null,
   "id": "8c980d12-7e59-4aba-aa00-90313e842ef7",
   "metadata": {},
   "outputs": [],
   "source": []
  },
  {
   "cell_type": "code",
   "execution_count": null,
   "id": "aab7c7f3-6502-4fa8-9c7b-19074eb6bdfa",
   "metadata": {},
   "outputs": [],
   "source": []
  },
  {
   "cell_type": "code",
   "execution_count": null,
   "id": "18970ae4-a15b-4040-a662-33baeafffd94",
   "metadata": {},
   "outputs": [],
   "source": []
  },
  {
   "cell_type": "code",
   "execution_count": 5,
   "id": "31e59c27-6a6e-43cf-b505-bc158ce3ec7a",
   "metadata": {},
   "outputs": [],
   "source": [
    "# 3. Is Python case sensitive when dealing with identifiers?"
   ]
  },
  {
   "cell_type": "code",
   "execution_count": 6,
   "id": "b85769fe-cc4c-4df0-9ff7-ff9dd6740d01",
   "metadata": {},
   "outputs": [],
   "source": [
    "# Yes"
   ]
  },
  {
   "cell_type": "code",
   "execution_count": null,
   "id": "604f55c8-0496-43d3-b8db-579b7395f075",
   "metadata": {},
   "outputs": [],
   "source": []
  },
  {
   "cell_type": "code",
   "execution_count": null,
   "id": "01e6b290-fd3c-4d8a-89bd-0e5bb434515f",
   "metadata": {},
   "outputs": [],
   "source": []
  },
  {
   "cell_type": "code",
   "execution_count": null,
   "id": "8cd369a5-1394-46a1-9d3f-3e966e659cd5",
   "metadata": {},
   "outputs": [],
   "source": []
  },
  {
   "cell_type": "code",
   "execution_count": 7,
   "id": "d5ff75dd-627f-4cdd-9551-342675d870dd",
   "metadata": {},
   "outputs": [],
   "source": [
    "# 4. What is the correct extension of the Python file?"
   ]
  },
  {
   "cell_type": "code",
   "execution_count": 8,
   "id": "71f65a11-b987-43e4-90f5-15ed98f70a92",
   "metadata": {},
   "outputs": [],
   "source": [
    "# .py"
   ]
  },
  {
   "cell_type": "code",
   "execution_count": null,
   "id": "bc8b87d8-930d-4843-ac32-b6cd09359b51",
   "metadata": {},
   "outputs": [],
   "source": []
  },
  {
   "cell_type": "code",
   "execution_count": null,
   "id": "3e784b14-b654-4e70-8a76-521b095b6c2e",
   "metadata": {},
   "outputs": [],
   "source": []
  },
  {
   "cell_type": "code",
   "execution_count": null,
   "id": "fa21e3a5-cf48-43a4-afd1-7cc7f6da5b85",
   "metadata": {},
   "outputs": [],
   "source": []
  },
  {
   "cell_type": "code",
   "execution_count": 9,
   "id": "38ff4e89-7415-40b8-823e-bc57fbd7c482",
   "metadata": {},
   "outputs": [],
   "source": [
    "# 5. Is Python code compiled or interpreted? "
   ]
  },
  {
   "cell_type": "code",
   "execution_count": 10,
   "id": "a663e5d3-3d16-4a02-999e-4911c69df02a",
   "metadata": {},
   "outputs": [],
   "source": [
    "# Interpreted"
   ]
  },
  {
   "cell_type": "code",
   "execution_count": null,
   "id": "d9963b00-60bd-4a5b-bfcb-cc6cd1b89783",
   "metadata": {},
   "outputs": [],
   "source": []
  },
  {
   "cell_type": "code",
   "execution_count": null,
   "id": "9f51520c-3175-40d8-a2ce-3e03f839a65f",
   "metadata": {},
   "outputs": [],
   "source": []
  },
  {
   "cell_type": "code",
   "execution_count": null,
   "id": "270a97dd-4df7-4bdd-bf9e-91fd6dc90899",
   "metadata": {},
   "outputs": [],
   "source": []
  },
  {
   "cell_type": "code",
   "execution_count": 11,
   "id": "29779420-ca7c-48b0-a943-92ebbd1cfb38",
   "metadata": {},
   "outputs": [],
   "source": [
    "# 6. Name a few blocks of code used to define in Python language? "
   ]
  },
  {
   "cell_type": "code",
   "execution_count": 12,
   "id": "1949944f-7ff8-47af-91b8-5a2f0b593b91",
   "metadata": {},
   "outputs": [],
   "source": [
    "# A module, a function body, and a class definition"
   ]
  },
  {
   "cell_type": "code",
   "execution_count": null,
   "id": "9c394a59-7a91-48f5-82b2-e4639f1987e9",
   "metadata": {},
   "outputs": [],
   "source": []
  },
  {
   "cell_type": "code",
   "execution_count": null,
   "id": "a12c1e04-9a90-425f-931e-e68c313c41d7",
   "metadata": {},
   "outputs": [],
   "source": []
  },
  {
   "cell_type": "code",
   "execution_count": null,
   "id": "abcde451-78e8-4bd8-a70c-ed5b9447e90b",
   "metadata": {},
   "outputs": [],
   "source": []
  },
  {
   "cell_type": "code",
   "execution_count": 13,
   "id": "6cf30469-4fd8-4747-84d6-dc5c1634cbff",
   "metadata": {},
   "outputs": [],
   "source": [
    "# 7. State a character used to give single-line comments in Python?"
   ]
  },
  {
   "cell_type": "code",
   "execution_count": 14,
   "id": "e72b785a-8928-404a-aa4a-196401738d4d",
   "metadata": {},
   "outputs": [],
   "source": [
    "# Answer is # "
   ]
  },
  {
   "cell_type": "code",
   "execution_count": null,
   "id": "7bb93f43-438b-4b6d-b619-ebad1a28d259",
   "metadata": {},
   "outputs": [],
   "source": []
  },
  {
   "cell_type": "code",
   "execution_count": null,
   "id": "10eb47bf-fe32-4b93-ba44-a3338ecfa0f1",
   "metadata": {},
   "outputs": [],
   "source": []
  },
  {
   "cell_type": "code",
   "execution_count": null,
   "id": "e78ad77f-1edc-438e-8e5a-6009a300f276",
   "metadata": {},
   "outputs": [],
   "source": []
  },
  {
   "cell_type": "code",
   "execution_count": 15,
   "id": "ff606e80-6202-4950-a5f7-c0d9dfae70f0",
   "metadata": {},
   "outputs": [],
   "source": [
    "# 8. Mention functions which can help us to find the version of python that we are currently working on? "
   ]
  },
  {
   "cell_type": "code",
   "execution_count": 16,
   "id": "191d1924-ab73-463f-918e-2869313be31b",
   "metadata": {},
   "outputs": [],
   "source": [
    "# sys.version   and    python_version()"
   ]
  },
  {
   "cell_type": "code",
   "execution_count": null,
   "id": "8acffcae-d30a-469a-aab8-2d343bc3b99e",
   "metadata": {},
   "outputs": [],
   "source": []
  },
  {
   "cell_type": "code",
   "execution_count": null,
   "id": "a15ca14c-82ec-469a-ba66-56d80767e91e",
   "metadata": {},
   "outputs": [],
   "source": []
  },
  {
   "cell_type": "code",
   "execution_count": null,
   "id": "47c44125-b80d-4c92-a1c4-ceaca86875b5",
   "metadata": {},
   "outputs": [],
   "source": []
  },
  {
   "cell_type": "code",
   "execution_count": 17,
   "id": "11f7ce6d-8a69-4c92-b8c6-d9b1499dc676",
   "metadata": {},
   "outputs": [],
   "source": [
    "# 9. Python supports the creation of anonymous functions at runtime, using a construct called ?"
   ]
  },
  {
   "cell_type": "code",
   "execution_count": 18,
   "id": "c31c5f05-a6ae-487e-a2f0-f8184a87aa3e",
   "metadata": {},
   "outputs": [],
   "source": [
    "# lambda"
   ]
  },
  {
   "cell_type": "code",
   "execution_count": null,
   "id": "d496b7b9-8aa9-4c98-9b77-57c5c5e7f869",
   "metadata": {},
   "outputs": [],
   "source": []
  },
  {
   "cell_type": "code",
   "execution_count": null,
   "id": "4ff0d283-69e0-4d83-8fdd-8c08c0ff5797",
   "metadata": {},
   "outputs": [],
   "source": []
  },
  {
   "cell_type": "code",
   "execution_count": null,
   "id": "e8c87cac-a80f-4012-814d-82e13c0648b6",
   "metadata": {},
   "outputs": [],
   "source": []
  },
  {
   "cell_type": "code",
   "execution_count": null,
   "id": "28655658-fa1e-417b-8d0c-f19eafa2955d",
   "metadata": {},
   "outputs": [],
   "source": [
    "# 10. What does pip stand for python?"
   ]
  },
  {
   "cell_type": "code",
   "execution_count": 19,
   "id": "06ea7c89-bb1a-49a9-9a77-c8409d6d3dbf",
   "metadata": {},
   "outputs": [],
   "source": [
    "# pip Install Packages"
   ]
  },
  {
   "cell_type": "code",
   "execution_count": null,
   "id": "392aed2f-d9cf-4a82-ba84-53ff58bf3b26",
   "metadata": {},
   "outputs": [],
   "source": []
  },
  {
   "cell_type": "code",
   "execution_count": null,
   "id": "353c752e-8c8f-4547-b10a-d6de5ecfa196",
   "metadata": {},
   "outputs": [],
   "source": []
  },
  {
   "cell_type": "code",
   "execution_count": null,
   "id": "6f2a823c-2b7a-462a-9b8e-542f459dbb10",
   "metadata": {},
   "outputs": [],
   "source": []
  },
  {
   "cell_type": "code",
   "execution_count": 20,
   "id": "fd436076-31d3-4bde-af3e-d252349f6dc2",
   "metadata": {},
   "outputs": [],
   "source": [
    "# 11. Mention a few built-in functions in python? "
   ]
  },
  {
   "cell_type": "code",
   "execution_count": 21,
   "id": "e999f390-697b-4443-be22-e1cbc994cb24",
   "metadata": {},
   "outputs": [],
   "source": [
    "# extend(), append(), count(), len(), print()"
   ]
  },
  {
   "cell_type": "code",
   "execution_count": null,
   "id": "7d2baa2d-a2a8-4931-accb-5b2fc0bdaf70",
   "metadata": {},
   "outputs": [],
   "source": []
  },
  {
   "cell_type": "code",
   "execution_count": null,
   "id": "7ef1cd8f-36d5-43de-8abf-e20fb9f08f0b",
   "metadata": {},
   "outputs": [],
   "source": []
  },
  {
   "cell_type": "code",
   "execution_count": null,
   "id": "35703b96-13fb-427d-9a2d-70710cabc43d",
   "metadata": {},
   "outputs": [],
   "source": []
  },
  {
   "cell_type": "code",
   "execution_count": 22,
   "id": "b9455926-3a03-46a8-a56b-4397d1e85eb8",
   "metadata": {},
   "outputs": [],
   "source": [
    "# 12. What is the maximum possible length of an identifier in Python?"
   ]
  },
  {
   "cell_type": "code",
   "execution_count": 23,
   "id": "03558e51-af2e-4997-92c7-fde7f9579aa7",
   "metadata": {},
   "outputs": [],
   "source": [
    "# 79"
   ]
  },
  {
   "cell_type": "code",
   "execution_count": null,
   "id": "b6a77f01-1187-4b96-a3ae-a16c16e08be0",
   "metadata": {},
   "outputs": [],
   "source": []
  },
  {
   "cell_type": "code",
   "execution_count": null,
   "id": "5f5804ef-99b1-456e-8dd0-64a80a687e2f",
   "metadata": {},
   "outputs": [],
   "source": []
  },
  {
   "cell_type": "code",
   "execution_count": null,
   "id": "ea1d7813-00eb-4a84-a740-956da2182a51",
   "metadata": {},
   "outputs": [],
   "source": []
  },
  {
   "cell_type": "code",
   "execution_count": 24,
   "id": "3ff33022-3d0a-4a0e-88b8-6959f8e917cc",
   "metadata": {},
   "outputs": [],
   "source": [
    "# 13. What are the benefits of using Python?"
   ]
  },
  {
   "cell_type": "code",
   "execution_count": 25,
   "id": "d7d20da0-cafd-49b2-9e9a-cf14e2d5a6a8",
   "metadata": {},
   "outputs": [],
   "source": [
    "# a) Python has a large community support"
   ]
  },
  {
   "cell_type": "code",
   "execution_count": 26,
   "id": "47bc881d-ccf7-4044-8323-05b163c9e61b",
   "metadata": {},
   "outputs": [],
   "source": [
    "# b) Python offers a wide range of libraries that can be used across various applications."
   ]
  },
  {
   "cell_type": "code",
   "execution_count": 27,
   "id": "7f9b5c87-272b-4800-9946-ad6206f6fab2",
   "metadata": {},
   "outputs": [],
   "source": [
    "# c) Python’s simple syntax, combined with its large set of libraries, help us do more with less lines of code."
   ]
  },
  {
   "cell_type": "code",
   "execution_count": 28,
   "id": "4cb7250b-1681-4dc4-95d6-40f9e44979e5",
   "metadata": {},
   "outputs": [],
   "source": [
    "# d) We can run your Python program across Windows, Mac OS, and Linux without modifying the program code"
   ]
  },
  {
   "cell_type": "code",
   "execution_count": 29,
   "id": "aba50678-3ab2-452e-aff9-a238d8d7b367",
   "metadata": {},
   "outputs": [],
   "source": [
    "# e) The Python programming language has various use cases in many growing fields, including:\n",
    "\n",
    "# Data science\n",
    "# Machine learning\n",
    "# Statistics\n",
    "# Cybersecurity\n",
    "# Game development\n",
    "# Back-end web application development\n",
    "# Embedded applications"
   ]
  },
  {
   "cell_type": "code",
   "execution_count": null,
   "id": "e337315e-6a84-47aa-8b6e-aeb09d66d4af",
   "metadata": {},
   "outputs": [],
   "source": []
  },
  {
   "cell_type": "code",
   "execution_count": null,
   "id": "37e4b117-c1d9-4afb-92d0-b0f050bd28c6",
   "metadata": {},
   "outputs": [],
   "source": []
  },
  {
   "cell_type": "code",
   "execution_count": null,
   "id": "61708f4b-3210-4c06-b741-1ca9cd36d8bf",
   "metadata": {},
   "outputs": [],
   "source": []
  },
  {
   "cell_type": "code",
   "execution_count": 30,
   "id": "83f81485-8be8-45e2-9a6e-fba0c901b97f",
   "metadata": {},
   "outputs": [],
   "source": [
    "# 14. How is memory managed in Python? "
   ]
  },
  {
   "cell_type": "code",
   "execution_count": 31,
   "id": "e420e9f3-b152-4fed-bc8c-56f1d1735903",
   "metadata": {},
   "outputs": [],
   "source": [
    "# Memory management in Python involves a private heap containing all Python objects and data structures. \n",
    "# The management of this private heap is ensured internally by the Python memory manager. \n",
    "# The Python memory manager has different components which deal with various dynamic storage management aspects, \n",
    "# like sharing, segmentation, preallocation or caching."
   ]
  },
  {
   "cell_type": "code",
   "execution_count": null,
   "id": "2718c0af-594f-4937-9a62-ed1ddd3e8cd9",
   "metadata": {},
   "outputs": [],
   "source": []
  },
  {
   "cell_type": "code",
   "execution_count": null,
   "id": "385c0b03-649c-4f84-bdcf-4d5d9267f750",
   "metadata": {},
   "outputs": [],
   "source": []
  },
  {
   "cell_type": "code",
   "execution_count": null,
   "id": "76e97fbb-f196-4a42-9dd8-ea6e177c2e67",
   "metadata": {},
   "outputs": [],
   "source": []
  },
  {
   "cell_type": "code",
   "execution_count": 32,
   "id": "74aa097c-9f65-4737-9381-b66d061e0ed5",
   "metadata": {},
   "outputs": [],
   "source": [
    "# 15. How to install Python on Windows and set path variables?"
   ]
  },
  {
   "cell_type": "code",
   "execution_count": 33,
   "id": "14394a11-84df-4757-9509-e18da54cc813",
   "metadata": {},
   "outputs": [],
   "source": [
    "# Python is installed on windows as follows :-\n",
    "# 1. Open a browser to the Python website and download the Windows installer.\n",
    "# 2. Double click on the downloaded file and install Python for all users, and ensure that Python is added to your path.\n",
    "# Click on Install now to begin.\n",
    "# 3. After the installation is complete, click Disable path length limit and then Close.\n",
    "# 4. Click Close to end the installation."
   ]
  },
  {
   "cell_type": "code",
   "execution_count": 34,
   "id": "b0ab353d-d9ac-4970-b763-5954e8dfd478",
   "metadata": {},
   "outputs": [],
   "source": [
    "# The complete path of python.exe can be added by:\n",
    "\n",
    "# Right-clicking This PC and going to Properties.\n",
    "\n",
    "# Clicking on the Advanced system settings in the menu on the left.\n",
    "\n",
    "# Clicking on the Environment Variables button o​n the bottom right.\n",
    "\n",
    "# In the System variables section, selecting the Path variable and clicking on Edit. \n",
    "# The next screen will show all the directories that are currently a part of the PATH variable.\n",
    "\n",
    "# Clicking on New and entering Python’s install directory."
   ]
  },
  {
   "cell_type": "code",
   "execution_count": null,
   "id": "501aa2a1-3c95-45f8-80e6-38e114c98834",
   "metadata": {},
   "outputs": [],
   "source": []
  },
  {
   "cell_type": "code",
   "execution_count": null,
   "id": "1401d12f-f57c-4bfa-b27a-638628778bc6",
   "metadata": {},
   "outputs": [],
   "source": []
  },
  {
   "cell_type": "code",
   "execution_count": null,
   "id": "575b16f6-5abd-4403-8e50-63e71f12d0e5",
   "metadata": {},
   "outputs": [],
   "source": []
  },
  {
   "cell_type": "code",
   "execution_count": 35,
   "id": "1ed2d3eb-a392-43d1-b387-f13bb60dc5f2",
   "metadata": {},
   "outputs": [],
   "source": [
    "# 16. Is indentation required in python? "
   ]
  },
  {
   "cell_type": "code",
   "execution_count": null,
   "id": "92804a2f-e354-4770-b715-7d6a90c60972",
   "metadata": {},
   "outputs": [],
   "source": [
    "# Yes"
   ]
  }
 ],
 "metadata": {
  "kernelspec": {
   "display_name": "Python 3 (ipykernel)",
   "language": "python",
   "name": "python3"
  },
  "language_info": {
   "codemirror_mode": {
    "name": "ipython",
    "version": 3
   },
   "file_extension": ".py",
   "mimetype": "text/x-python",
   "name": "python",
   "nbconvert_exporter": "python",
   "pygments_lexer": "ipython3",
   "version": "3.10.8"
  }
 },
 "nbformat": 4,
 "nbformat_minor": 5
}
